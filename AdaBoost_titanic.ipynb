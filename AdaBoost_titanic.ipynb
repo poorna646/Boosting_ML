{
  "nbformat": 4,
  "nbformat_minor": 0,
  "metadata": {
    "colab": {
      "provenance": []
    },
    "kernelspec": {
      "name": "python3",
      "display_name": "Python 3"
    },
    "language_info": {
      "name": "python"
    }
  },
  "cells": [
    {
      "cell_type": "code",
      "execution_count": null,
      "metadata": {
        "id": "DfaSBw-kzK-c"
      },
      "outputs": [],
      "source": [
        "import numpy as np\n",
        "import pandas as pd\n",
        "import matplotlib.pyplot as plt"
      ]
    },
    {
      "cell_type": "code",
      "source": [
        "df_train=pd.read_csv('https://raw.githubusercontent.com/ezioauditore-tech/AI/main/datasets/Titanic/train.csv')\n",
        "df_test=pd.read_csv('https://raw.githubusercontent.com/ezioauditore-tech/AI/main/datasets/Titanic/test.csv')"
      ],
      "metadata": {
        "id": "JT-LNgeDzRas"
      },
      "execution_count": null,
      "outputs": []
    },
    {
      "cell_type": "code",
      "source": [
        "df_train.info(),df_test.info()"
      ],
      "metadata": {
        "colab": {
          "base_uri": "https://localhost:8080/"
        },
        "id": "oFwTRCBNzUkA",
        "outputId": "7a947e2a-7332-420c-9e1f-2f406671c819"
      },
      "execution_count": null,
      "outputs": [
        {
          "output_type": "stream",
          "name": "stdout",
          "text": [
            "<class 'pandas.core.frame.DataFrame'>\n",
            "RangeIndex: 891 entries, 0 to 890\n",
            "Data columns (total 12 columns):\n",
            " #   Column       Non-Null Count  Dtype  \n",
            "---  ------       --------------  -----  \n",
            " 0   PassengerId  891 non-null    int64  \n",
            " 1   Survived     891 non-null    int64  \n",
            " 2   Pclass       891 non-null    int64  \n",
            " 3   Name         891 non-null    object \n",
            " 4   Sex          891 non-null    object \n",
            " 5   Age          714 non-null    float64\n",
            " 6   SibSp        891 non-null    int64  \n",
            " 7   Parch        891 non-null    int64  \n",
            " 8   Ticket       891 non-null    object \n",
            " 9   Fare         891 non-null    float64\n",
            " 10  Cabin        204 non-null    object \n",
            " 11  Embarked     889 non-null    object \n",
            "dtypes: float64(2), int64(5), object(5)\n",
            "memory usage: 83.7+ KB\n",
            "<class 'pandas.core.frame.DataFrame'>\n",
            "RangeIndex: 418 entries, 0 to 417\n",
            "Data columns (total 11 columns):\n",
            " #   Column       Non-Null Count  Dtype  \n",
            "---  ------       --------------  -----  \n",
            " 0   PassengerId  418 non-null    int64  \n",
            " 1   Pclass       418 non-null    int64  \n",
            " 2   Name         418 non-null    object \n",
            " 3   Sex          418 non-null    object \n",
            " 4   Age          332 non-null    float64\n",
            " 5   SibSp        418 non-null    int64  \n",
            " 6   Parch        418 non-null    int64  \n",
            " 7   Ticket       418 non-null    object \n",
            " 8   Fare         417 non-null    float64\n",
            " 9   Cabin        91 non-null     object \n",
            " 10  Embarked     418 non-null    object \n",
            "dtypes: float64(2), int64(4), object(5)\n",
            "memory usage: 36.0+ KB\n"
          ]
        },
        {
          "output_type": "execute_result",
          "data": {
            "text/plain": [
              "(None, None)"
            ]
          },
          "metadata": {},
          "execution_count": 3
        }
      ]
    },
    {
      "cell_type": "code",
      "source": [
        "y_train=df_train['Survived']"
      ],
      "metadata": {
        "id": "LisGnNlBzWP1"
      },
      "execution_count": null,
      "outputs": []
    },
    {
      "cell_type": "code",
      "source": [
        "df_train.drop(labels='Survived',axis=1,inplace=True)"
      ],
      "metadata": {
        "id": "Ngxt0jysznhg"
      },
      "execution_count": null,
      "outputs": []
    },
    {
      "cell_type": "code",
      "source": [
        "df_train.shape"
      ],
      "metadata": {
        "colab": {
          "base_uri": "https://localhost:8080/"
        },
        "id": "J6AuweOEzuS1",
        "outputId": "c448f5e5-4964-49da-8f4b-ebca98b6943d"
      },
      "execution_count": null,
      "outputs": [
        {
          "output_type": "execute_result",
          "data": {
            "text/plain": [
              "(891, 11)"
            ]
          },
          "metadata": {},
          "execution_count": 6
        }
      ]
    },
    {
      "cell_type": "code",
      "source": [
        "train_test=df_train.append(df_test)"
      ],
      "metadata": {
        "colab": {
          "base_uri": "https://localhost:8080/"
        },
        "id": "spR6HTEDzv7T",
        "outputId": "4349d098-2e7b-43f0-d99d-cc03f595b5db"
      },
      "execution_count": null,
      "outputs": [
        {
          "output_type": "stream",
          "name": "stderr",
          "text": [
            "<ipython-input-7-01139d947b5f>:1: FutureWarning: The frame.append method is deprecated and will be removed from pandas in a future version. Use pandas.concat instead.\n",
            "  train_test=df_train.append(df_test)\n"
          ]
        }
      ]
    },
    {
      "cell_type": "code",
      "source": [
        "c=['Name','Age','SibSp','Ticket','Cabin','Parch','Embarked']\n",
        "train_test.drop(labels=c,axis=1,inplace=True)"
      ],
      "metadata": {
        "id": "tSig1U0Wzx38"
      },
      "execution_count": null,
      "outputs": []
    },
    {
      "cell_type": "code",
      "source": [
        "train_test_dummies = pd.get_dummies(train_test,columns=['Sex'])"
      ],
      "metadata": {
        "id": "Ks3i5OtHz4vZ"
      },
      "execution_count": null,
      "outputs": []
    },
    {
      "cell_type": "code",
      "source": [
        "train_test_dummies.shape"
      ],
      "metadata": {
        "colab": {
          "base_uri": "https://localhost:8080/"
        },
        "id": "L-czeJ8Nz7KE",
        "outputId": "a951a121-6332-4470-bd27-15767988614c"
      },
      "execution_count": null,
      "outputs": [
        {
          "output_type": "execute_result",
          "data": {
            "text/plain": [
              "(1309, 5)"
            ]
          },
          "metadata": {},
          "execution_count": 10
        }
      ]
    },
    {
      "cell_type": "code",
      "source": [
        "train_test_dummies.fillna(value=0.0,inplace=True)"
      ],
      "metadata": {
        "id": "pgBAK484z-93"
      },
      "execution_count": null,
      "outputs": []
    },
    {
      "cell_type": "code",
      "source": [
        "x_train = train_test_dummies.values[0:891]\n",
        "x_test = train_test_dummies.values[891:]"
      ],
      "metadata": {
        "id": "aO7TNvCM0BQE"
      },
      "execution_count": null,
      "outputs": []
    },
    {
      "cell_type": "code",
      "source": [
        "from sklearn.preprocessing import MinMaxScaler\n",
        "scalar=MinMaxScaler()\n",
        "x_train_scale = scalar.fit_transform(x_train)\n",
        "x_test_scale = scalar.transform(x_test)"
      ],
      "metadata": {
        "id": "AJ2AqxcF0Xuy"
      },
      "execution_count": null,
      "outputs": []
    },
    {
      "cell_type": "code",
      "source": [
        "from sklearn.model_selection import train_test_split\n",
        "x_train_sub, x_valid, y_train_sub ,y_valid =train_test_split(x_train_scale,y_train,random_state=0)"
      ],
      "metadata": {
        "id": "d7B__gdL0cdE"
      },
      "execution_count": null,
      "outputs": []
    },
    {
      "cell_type": "code",
      "source": [
        "from sklearn.ensemble import AdaBoostClassifier\n",
        "from sklearn.metrics import classification_report, confusion_matrix"
      ],
      "metadata": {
        "id": "V1zS8L0j0eox"
      },
      "execution_count": null,
      "outputs": []
    },
    {
      "cell_type": "code",
      "source": [
        "ab=AdaBoostClassifier(n_estimators=20 ,random_state=0)\n",
        "ab.fit(x_train_sub,y_train_sub)\n",
        "print(\"Accuracy(training): {0:3f}\".format(ab.score(x_train_sub, y_train_sub))) #{0:3f}--format specifier\n",
        "print(\"Accuracy(test): {0:3f}\".format(ab.score(x_valid,y_valid)))\n",
        "print()"
      ],
      "metadata": {
        "colab": {
          "base_uri": "https://localhost:8080/"
        },
        "id": "11f5C1670wT0",
        "outputId": "065af776-1ba6-4da4-ad6b-9bda0c1484c4"
      },
      "execution_count": null,
      "outputs": [
        {
          "output_type": "stream",
          "name": "stdout",
          "text": [
            "Accuracy(training): 0.802395\n",
            "Accuracy(test): 0.771300\n",
            "\n"
          ]
        }
      ]
    },
    {
      "cell_type": "code",
      "source": [],
      "metadata": {
        "id": "Jr26CsY31KVJ"
      },
      "execution_count": null,
      "outputs": []
    }
  ]
}